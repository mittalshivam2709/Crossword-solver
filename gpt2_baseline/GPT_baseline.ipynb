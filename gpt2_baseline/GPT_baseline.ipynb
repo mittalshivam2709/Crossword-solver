{
 "cells": [
  {
   "cell_type": "code",
   "execution_count": 1,
   "metadata": {},
   "outputs": [],
   "source": [
    "import pandas as pd\n",
    "import numpy as np\n",
    "import chardet\n",
    "from transformers import GPT2Tokenizer, GPT2LMHeadModel, TextDataset, DataCollatorForLanguageModeling\n",
    "from transformers import Trainer, TrainingArguments\n",
    "filepath = '/Users/andrewlipschultz/Dropbox/My Mac (Andrew’s MacBook Pro)/Documents/GitHub/cs224N_final_project/nytcrosswords.csv'\n",
    "filepath = 'nytcrosswords.csv'\n",
    "with open(filepath, 'rb') as file:\n",
    "    result = chardet.detect(file.read())\n",
    "    encoding = result['encoding']\n"
   ]
  },
  {
   "cell_type": "code",
   "execution_count": 2,
   "metadata": {},
   "outputs": [
    {
     "name": "stdout",
     "output_type": "stream",
     "text": [
      "         Date     Word                                 Clue\n",
      "0  10/31/2021      PAT  Action done while saying \"Good dog\"\n",
      "1  10/31/2021  RASCALS                      Mischief-makers\n",
      "2  10/31/2021      PEN          It might click for a writer\n",
      "3  10/31/2021      SEP                             Fall mo.\n",
      "4  10/31/2021      ECO                Kind to Mother Nature\n"
     ]
    }
   ],
   "source": [
    "df = pd.read_csv(filepath, encoding=encoding)\n",
    "print(df.head())\n",
    "\n",
    "relevant_cols = ['Clue', 'Word']\n",
    "for col in relevant_cols:\n",
    "    text_data = df[col].apply(str).tolist()\n",
    "    training_text = \"\\n\".join(text_data)\n"
   ]
  },
  {
   "cell_type": "code",
   "execution_count": 3,
   "metadata": {},
   "outputs": [],
   "source": [
    "with open('training_data.txt', 'w', encoding='utf-8') as file:\n",
    "    file.write(training_text)\n",
    "\n",
    "# Load tokenizer and model\n",
    "tokenizer = GPT2Tokenizer.from_pretrained('gpt2')\n",
    "model = GPT2LMHeadModel.from_pretrained('gpt2')"
   ]
  },
  {
   "cell_type": "code",
   "execution_count": 4,
   "metadata": {},
   "outputs": [],
   "source": [
    "from transformers import pipeline"
   ]
  },
  {
   "cell_type": "code",
   "execution_count": 5,
   "metadata": {},
   "outputs": [
    {
     "name": "stderr",
     "output_type": "stream",
     "text": [
      "Truncation was not explicitly activated but `max_length` is provided a specific value, please use `truncation=True` to explicitly truncate examples to max length. Defaulting to 'longest_first' truncation strategy. If you encode pairs of sequences (GLUE-style) with the tokenizer you can select this strategy more precisely by providing a specific strategy to `truncation`.\n",
      "The attention mask and the pad token id were not set. As a consequence, you may observe unexpected behavior. Please pass your input's `attention_mask` to obtain reliable results.\n",
      "Setting `pad_token_id` to `eos_token_id`:50256 for open-end generation.\n"
     ]
    },
    {
     "name": "stdout",
     "output_type": "stream",
     "text": [
      "To read or to access the full report, please click here.\n"
     ]
    }
   ],
   "source": [
    "generator = pipeline('text-generation', model=model, tokenizer=tokenizer)\n",
    "\n",
    "# Generate text\n",
    "text_prompt = \"\"\n",
    "generated_text = generator(text_prompt, max_length=100, num_return_sequences=1)\n",
    "print(generated_text[0]['generated_text'])"
   ]
  },
  {
   "cell_type": "code",
   "execution_count": 6,
   "metadata": {},
   "outputs": [],
   "source": [
    "clues = []\n",
    "answers = []\n",
    "lengths = []\n",
    "with open('output.txt', 'r', encoding='utf-8') as file:\n",
    "    lines = file.readlines()\n",
    "    for line in lines:\n",
    "        line = line.strip().strip('\"')\n",
    "        parts = line.rsplit(',', 2)\n",
    "        if len(parts) == 3:\n",
    "            clue = parts[0].strip().strip('\"')\n",
    "            answer = parts[1].strip().strip('\"')\n",
    "            length = int(parts[2].strip())\n",
    "            clues.append(clue)\n",
    "            answers.append(answer)\n",
    "            lengths.append(length)\n",
    "            "
   ]
  },
  {
   "cell_type": "code",
   "execution_count": 16,
   "metadata": {},
   "outputs": [
    {
     "name": "stderr",
     "output_type": "stream",
     "text": [
      "Setting `pad_token_id` to `eos_token_id`:50256 for open-end generation.\n",
      "Setting `pad_token_id` to `eos_token_id`:50256 for open-end generation.\n"
     ]
    },
    {
     "name": "stdout",
     "output_type": "stream",
     "text": [
      "Crossword clue: 'Action done while saying, \"\"Good dog'. Provide the answer in one word that has a length of 3 characters. If you want the Answer to be \"Good dog\", use the first word of the sequence. (Only 5\n"
     ]
    },
    {
     "name": "stderr",
     "output_type": "stream",
     "text": [
      "Setting `pad_token_id` to `eos_token_id`:50256 for open-end generation.\n"
     ]
    },
    {
     "name": "stdout",
     "output_type": "stream",
     "text": [
      "Crossword clue: 'Mischief-makers'. Provide the answer in one word that has a length of 7 characters.\n",
      "\n",
      "The word 'fraud' and the term 'false-spellcasting' have both been used to define a number of\n"
     ]
    },
    {
     "name": "stderr",
     "output_type": "stream",
     "text": [
      "Setting `pad_token_id` to `eos_token_id`:50256 for open-end generation.\n"
     ]
    },
    {
     "name": "stdout",
     "output_type": "stream",
     "text": [
      "Crossword clue: 'It might click for a writer'. Provide the answer in one word that has a length of 3 characters.\n",
      "\n",
      "If you provide a word with length 5, then the next word starts at 5 characters, and after that word\n"
     ]
    },
    {
     "name": "stderr",
     "output_type": "stream",
     "text": [
      "Setting `pad_token_id` to `eos_token_id`:50256 for open-end generation.\n"
     ]
    },
    {
     "name": "stdout",
     "output_type": "stream",
     "text": [
      "Crossword clue: 'Fall mo.'. Provide the answer in one word that has a length of 3 characters. Write the final word in all characters and the word of the last letter in the sequence. This is the first of the three types of\n",
      "Crossword clue: 'Kind to Mother Nature'. Provide the answer in one word that has a length of 3 characters. (If you could, that would be great, and there is a link). (Try to include a keyword for a word to\n"
     ]
    }
   ],
   "source": [
    "for i in range(5):\n",
    "    length = lengths[i]\n",
    "    clue = clues[i]\n",
    "    prompt = f\"Crossword clue: '{clue}'. Provide the answer in one word that has a length of {length} characters.\"\n",
    "    response = generator(prompt, max_length=50, num_return_sequences=1)\n",
    "    full_response = response[0]['generated_text']\n",
    "    print(full_response)\n",
    "    \n",
    "\n",
    "    "
   ]
  }
 ],
 "metadata": {
  "kernelspec": {
   "display_name": "cs224n",
   "language": "python",
   "name": "cs224n"
  },
  "language_info": {
   "codemirror_mode": {
    "name": "ipython",
    "version": 3
   },
   "file_extension": ".py",
   "mimetype": "text/x-python",
   "name": "python",
   "nbconvert_exporter": "python",
   "pygments_lexer": "ipython3",
   "version": "3.12.2"
  }
 },
 "nbformat": 4,
 "nbformat_minor": 2
}
