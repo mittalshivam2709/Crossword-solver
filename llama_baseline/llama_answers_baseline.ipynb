{
 "cells": [
  {
   "cell_type": "code",
   "execution_count": 36,
   "id": "5870be47",
   "metadata": {},
   "outputs": [],
   "source": [
    "import numpy as np\n",
    "import re\n",
    "import openai\n",
    "from sklearn.model_selection import train_test_split\n",
    "import pandas as pd\n",
    "import unicodedata\n",
    "import os\n",
    "from together import Together\n",
    "import string"
   ]
  },
  {
   "cell_type": "code",
   "execution_count": 37,
   "id": "46428112",
   "metadata": {},
   "outputs": [],
   "source": [
    "# load CSV\n",
    "df = pd.read_csv('/Users/ohmpatel/Downloads/nytcrosswords.csv', encoding=\"cp1252\")"
   ]
  },
  {
   "cell_type": "code",
   "execution_count": 38,
   "id": "9b27b445",
   "metadata": {},
   "outputs": [],
   "source": [
    "sample_df = df.sample(n=500)"
   ]
  },
  {
   "cell_type": "code",
   "execution_count": 39,
   "id": "aea65cf2",
   "metadata": {},
   "outputs": [],
   "source": [
    "def find_answer(sentence):\n",
    "    for word in sentence.split():\n",
    "        if len(word) >= 3 and word.upper() == word:\n",
    "            return word\n",
    "    return \"NULL\""
   ]
  },
  {
   "cell_type": "code",
   "execution_count": 40,
   "id": "c7fcb8ba",
   "metadata": {},
   "outputs": [
    {
     "name": "stdout",
     "output_type": "stream",
     "text": [
      "50\n",
      "49 POETRY The answer is FICTION\n",
      "100\n",
      "99 THOU I think I can help you with that\n",
      "\n",
      "The answer to the crossword clue What you used to be with a length of 4 characters is likely to be I WAS\n",
      "150\n",
      "149 RERAN The answer is REPLAYED\n",
      "200\n",
      "199 FEDS The answer is FBIAS\n",
      "250\n",
      "249 SHOE The answer is SHOES\n",
      "300\n",
      "299 IGOR The answer is IVAN\n",
      "350\n",
      "349 CHART The answer is SCENE\n",
      "400\n",
      "399 TOTALUP The answer is TOTALUP\n",
      "450\n",
      "449 EMMA The answer is PATR\n",
      "500\n",
      "499 TENDER The answer is WEAKLY\n"
     ]
    }
   ],
   "source": [
    "answers = []\n",
    "\n",
    "client = Together(api_key='cbb9cc63e434536b5583155ac26b44bd457098245baf94ca1fc186981f49ad74')\n",
    "\n",
    "clues = sample_df.Clue.to_list()\n",
    "words = sample_df.Word.to_list()\n",
    "count = 0\n",
    "\n",
    "for i, clue in enumerate(clues):\n",
    "    length = len(words[i])\n",
    "    \n",
    "    response = client.chat.completions.create(\n",
    "        model=\"meta-llama/Llama-3-8b-chat-hf\",\n",
    "        messages=[{\"role\": \"user\", \"content\": f\"The crossword clue is {clue}. The length of the answer is {length} characters. Write the answer in all caps and with no spaces.\"}]\n",
    "    )\n",
    "    \n",
    "    answer = response.choices[0].message.content\n",
    "    stripped = answer.translate(str.maketrans('', '', string.punctuation))\n",
    "    answers.append((i, clue, words[i], stripped))\n",
    "    \n",
    "    count += 1\n",
    "    if count % 50 == 0:\n",
    "        print(count)\n",
    "        print(i, words[i], stripped)"
   ]
  },
  {
   "cell_type": "code",
   "execution_count": 41,
   "id": "bbfe4d7c",
   "metadata": {},
   "outputs": [],
   "source": [
    "stripped = []\n",
    "answers_df = pd.DataFrame(answers, columns=['index','Clue','Word','Guess'])\n",
    "for output in answers_df['Guess']:\n",
    "    stripped.append(find_answer(output))"
   ]
  },
  {
   "cell_type": "code",
   "execution_count": 42,
   "id": "209d1ed6",
   "metadata": {},
   "outputs": [],
   "source": [
    "answers_df['Cleaned_Guess'] = stripped"
   ]
  },
  {
   "cell_type": "code",
   "execution_count": 43,
   "id": "efed245f",
   "metadata": {},
   "outputs": [],
   "source": [
    "words = answers_df['Word'].to_list()\n",
    "guesses = answers_df['Cleaned_Guess'].to_list()"
   ]
  },
  {
   "cell_type": "code",
   "execution_count": 44,
   "id": "b260e0e8",
   "metadata": {},
   "outputs": [
    {
     "name": "stdout",
     "output_type": "stream",
     "text": [
      "Correct word prediction accuracy: 0.216\n"
     ]
    }
   ],
   "source": [
    "# calculate accuracy by word\n",
    "count = 0\n",
    "for i in range(len(words)):\n",
    "    word, guess = words[i], guesses[i]\n",
    "    if word == guess:\n",
    "        count += 1\n",
    "print(f\"Correct word prediction accuracy: {count / len(words)}\")"
   ]
  },
  {
   "cell_type": "code",
   "execution_count": 45,
   "id": "a34698e0",
   "metadata": {},
   "outputs": [],
   "source": [
    "# calculate by letter accuracy\n",
    "def letter_accuracy(words, guesses):\n",
    "    correct_letters, total_letters = 0, 0\n",
    "    for i in range(len(words)):\n",
    "        word, guess = words[i], guesses[i]\n",
    "        # null guesses\n",
    "        if guess == \"NULL\":\n",
    "            total_letters += len(word)\n",
    "        else:\n",
    "            # correct guess\n",
    "            if word == guess:\n",
    "                correct_letters += len(word)\n",
    "                total_letters += len(word)\n",
    "\n",
    "            else: \n",
    "                # Case 1: guess too short, adding padding\n",
    "                if len(word) > len(guess):\n",
    "                    while len(guess) < len(word):\n",
    "                        guess += '!'\n",
    "                # Case 2: guess too long, crop to len(word)\n",
    "                elif len(word) < len(guess):\n",
    "                    guess = guess[:len(word)]\n",
    "\n",
    "                # Word, Guess now guaranteed to be same length\n",
    "                for i in range(len(word)):\n",
    "                    if word[i] == guess[i]:\n",
    "                        total_letters += 1\n",
    "                        correct_letters += 1\n",
    "                    else: \n",
    "                        total_letters += 1 \n",
    "    return correct_letters, total_letters"
   ]
  },
  {
   "cell_type": "code",
   "execution_count": 46,
   "id": "d8ac5baa",
   "metadata": {},
   "outputs": [
    {
     "name": "stdout",
     "output_type": "stream",
     "text": [
      "Correct letter prediction accuracy: 0.3010752688172043\n"
     ]
    }
   ],
   "source": [
    "correct, total = letter_accuracy(words, guesses)\n",
    "print(f\"Correct letter prediction accuracy: {correct / total}\")"
   ]
  },
  {
   "cell_type": "code",
   "execution_count": 47,
   "id": "1cc4bd2f",
   "metadata": {},
   "outputs": [],
   "source": [
    "set_word_len = set([len(word) for word in words])"
   ]
  },
  {
   "cell_type": "code",
   "execution_count": 48,
   "id": "3d975e3a",
   "metadata": {},
   "outputs": [
    {
     "name": "stdout",
     "output_type": "stream",
     "text": [
      "Correct 3-letter prediction accuracy: 0.2962962962962963\n",
      "Correct 4-letter prediction accuracy: 0.4119718309859155\n",
      "Correct 5-letter prediction accuracy: 0.2894308943089431\n",
      "Correct 6-letter prediction accuracy: 0.3009950248756219\n",
      "Correct 7-letter prediction accuracy: 0.29064039408866993\n",
      "Correct 8-letter prediction accuracy: 0.1590909090909091\n",
      "Correct 9-letter prediction accuracy: 0.06172839506172839\n",
      "Correct 10-letter prediction accuracy: 0.1\n",
      "Correct 11-letter prediction accuracy: 0.20454545454545456\n",
      "Correct 13-letter prediction accuracy: 0.0\n",
      "Correct 15-letter prediction accuracy: 0.16666666666666666\n"
     ]
    }
   ],
   "source": [
    "for length in set_word_len:\n",
    "    idxs = [i for i in range(len(words)) if len(words[i]) == length]\n",
    "    subgroup_words = [words[i] for i in idxs]\n",
    "    subgroup_guesses = [guesses[i] for i in idxs]\n",
    "    correct, total = letter_accuracy(subgroup_words, subgroup_guesses)\n",
    "    print(f\"Correct {length}-letter prediction accuracy: {correct / total}\")"
   ]
  },
  {
   "cell_type": "code",
   "execution_count": 10,
   "id": "c074ccc1",
   "metadata": {},
   "outputs": [],
   "source": [
    "# Python program to generate word vectors using Word2Vec\n",
    "\n",
    "# importing all necessary modules\n",
    "from gensim.models import Word2Vec\n",
    "from gensim.models import KeyedVectors"
   ]
  },
  {
   "cell_type": "code",
   "execution_count": 11,
   "id": "c94f7b37",
   "metadata": {},
   "outputs": [
    {
     "name": "stdout",
     "output_type": "stream",
     "text": [
      "Loaded vocab size 400000\n"
     ]
    }
   ],
   "source": [
    "def load_embedding_model():\n",
    "    \"\"\" Load GloVe Vectors\n",
    "        Return:\n",
    "            wv_from_bin: All 400000 embeddings, each length 200\n",
    "    \"\"\"\n",
    "    import gensim.downloader as api\n",
    "    wv_from_bin = api.load(\"glove-wiki-gigaword-200\")\n",
    "    print(\"Loaded vocab size %i\" % len(list(wv_from_bin.index_to_key)))\n",
    "    return wv_from_bin\n",
    "wv_from_bin = load_embedding_model()"
   ]
  },
  {
   "cell_type": "code",
   "execution_count": 12,
   "id": "54f23ba1",
   "metadata": {},
   "outputs": [
    {
     "data": {
      "text/plain": [
       "0.6915422677993774"
      ]
     },
     "execution_count": 12,
     "metadata": {},
     "output_type": "execute_result"
    }
   ],
   "source": [
    "wv_from_bin.distance('page', 'talk')"
   ]
  },
  {
   "cell_type": "code",
   "execution_count": 13,
   "id": "bd0c6254",
   "metadata": {},
   "outputs": [],
   "source": [
    "def cos_similarity_incl_null(words, guesses):\n",
    "    cos_sim = []\n",
    "    for i in range(len(words)):\n",
    "        try: \n",
    "            cos_sim.append(wv_from_bin.distance(words[i].lower(), guesses[i].lower()))\n",
    "        except:\n",
    "            cos_sim.append(0)\n",
    "    return sum(cos_sim) / len(cos_sim)\n",
    "\n",
    "def cos_similarity_excl_null(words, guesses):\n",
    "    cos_sim = []\n",
    "    for i in range(len(words)):\n",
    "        try: \n",
    "            cos_sim.append(wv_from_bin.distance(words[i].lower(), guesses[i].lower()))\n",
    "        except:\n",
    "            pass\n",
    "    if len(cos_sim):\n",
    "        return sum(cos_sim) / len(cos_sim)\n",
    "    else:\n",
    "        return 0"
   ]
  },
  {
   "cell_type": "code",
   "execution_count": 160,
   "id": "5167f56c",
   "metadata": {},
   "outputs": [
    {
     "name": "stdout",
     "output_type": "stream",
     "text": [
      "Cosine similarity w/ 0s for null guesses: 0.45806048088092355\n",
      "Cosine similarity excluding null guesses: 0.6292039572540159\n"
     ]
    }
   ],
   "source": [
    "print(f\"Cosine similarity w/ 0s for null guesses: {cos_similarity_incl_null(words, guesses)}\")\n",
    "print(f\"Cosine similarity excluding null guesses: {cos_similarity_excl_null(words, guesses)}\")"
   ]
  },
  {
   "cell_type": "code",
   "execution_count": 161,
   "id": "5a0d6ec6",
   "metadata": {},
   "outputs": [
    {
     "name": "stdout",
     "output_type": "stream",
     "text": [
      "Cosine similarity 3-letter w/ 0s for null guesses: 0.6275630133911141\n",
      "Cosine similarity 3-letter excluding null guesses: 0.6447746572182965\n",
      "\n",
      "Cosine similarity 4-letter w/ 0s for null guesses: 0.5327656174121194\n",
      "Cosine similarity 4-letter excluding null guesses: 0.6279902886290775\n",
      "\n",
      "Cosine similarity 5-letter w/ 0s for null guesses: 0.41969531750117234\n",
      "Cosine similarity 5-letter excluding null guesses: 0.6295429762517585\n",
      "\n",
      "Cosine similarity 6-letter w/ 0s for null guesses: 0.3633225873463612\n",
      "Cosine similarity 6-letter excluding null guesses: 0.6205262011608643\n",
      "\n",
      "Cosine similarity 7-letter w/ 0s for null guesses: 0.2829566756995876\n",
      "Cosine similarity 7-letter excluding null guesses: 0.5995986699348405\n",
      "\n",
      "Cosine similarity 8-letter w/ 0s for null guesses: 0.19600043441639858\n",
      "Cosine similarity 8-letter excluding null guesses: 0.5451262082206085\n",
      "\n",
      "Cosine similarity 9-letter w/ 0s for null guesses: 0.07995470653514604\n",
      "Cosine similarity 9-letter excluding null guesses: 0.7395810354501009\n",
      "\n",
      "Cosine similarity 10-letter w/ 0s for null guesses: 0.024893783032894135\n",
      "Cosine similarity 10-letter excluding null guesses: 0.39830052852630615\n",
      "\n",
      "Cosine similarity 11-letter w/ 0s for null guesses: 0.0\n",
      "Cosine similarity 11-letter excluding null guesses: 0\n",
      "\n",
      "Cosine similarity 12-letter w/ 0s for null guesses: 0.0\n",
      "Cosine similarity 12-letter excluding null guesses: 0\n",
      "\n",
      "Cosine similarity 13-letter w/ 0s for null guesses: 0.0\n",
      "Cosine similarity 13-letter excluding null guesses: 0\n",
      "\n",
      "Cosine similarity 14-letter w/ 0s for null guesses: 0.0\n",
      "Cosine similarity 14-letter excluding null guesses: 0\n",
      "\n",
      "Cosine similarity 15-letter w/ 0s for null guesses: 0.0\n",
      "Cosine similarity 15-letter excluding null guesses: 0\n",
      "\n"
     ]
    }
   ],
   "source": [
    "for length in set_word_len:\n",
    "    idxs = [i for i in range(len(words)) if len(words[i]) == length]\n",
    "    subgroup_words = [words[i] for i in idxs]\n",
    "    subgroup_guesses = [guesses[i] for i in idxs]\n",
    "    print(f\"Cosine similarity {length}-letter w/ 0s for null guesses: {cos_similarity_incl_null(subgroup_words, subgroup_guesses)}\")\n",
    "    print(f\"Cosine similarity {length}-letter excluding null guesses: {cos_similarity_excl_null(subgroup_words, subgroup_guesses)}\")\n",
    "    print()"
   ]
  },
  {
   "cell_type": "code",
   "execution_count": 172,
   "id": "217cc5fc",
   "metadata": {},
   "outputs": [
    {
     "data": {
      "text/plain": [
       "0.5392"
      ]
     },
     "execution_count": 172,
     "metadata": {},
     "output_type": "execute_result"
    }
   ],
   "source": [
    "def is_correct_length(actual_answers, generated_answers):\n",
    "    acc_array = np.array(actual_answers)\n",
    "    gen_array = np.array(generated_answers)\n",
    "    matches = np.sum([len(acc_array[i]) == len(gen_array[i]) for i in range(len(acc_array))])\n",
    "    return matches / len(acc_array)\n",
    "\n",
    "is_correct_length(words, guesses)"
   ]
  },
  {
   "cell_type": "code",
   "execution_count": 181,
   "id": "7d605523",
   "metadata": {},
   "outputs": [
    {
     "name": "stdout",
     "output_type": "stream",
     "text": [
      "The answer is NERVES\n"
     ]
    }
   ],
   "source": [
    "client = Together(api_key='cbb9cc63e434536b5583155ac26b44bd457098245baf94ca1fc186981f49ad74')\n",
    "\n",
    "clues = sample_df.Clue.to_list()\n",
    "words = sample_df.Word.to_list()\n",
    "count = 0\n",
    "\n",
    "\n",
    "clue = clues[0]\n",
    "length = len(words[0])\n",
    "\n",
    "partial = \"NERVE\"\n",
    "\n",
    "response = client.chat.completions.create(\n",
    "    model=\"meta-llama/Llama-3-8b-chat-hf\",\n",
    "    messages=[{\"role\": \"user\", \"content\": f\"The crossword clue is {clue}. The length of the answer is {length} characters, and some characters are filled in: {partial}. Write the answer in all caps and with no spaces.\"}]\n",
    ")\n",
    "\n",
    "resp = response.choices[0].message.content\n",
    "stripped = resp.translate(str.maketrans('', '', string.punctuation))\n",
    "print(stripped)\n"
   ]
  },
  {
   "cell_type": "code",
   "execution_count": 177,
   "id": "b5f65015",
   "metadata": {},
   "outputs": [
    {
     "data": {
      "text/plain": [
       "'\"You have some ___!\"'"
      ]
     },
     "execution_count": 177,
     "metadata": {},
     "output_type": "execute_result"
    }
   ],
   "source": [
    "clues[0]"
   ]
  },
  {
   "cell_type": "code",
   "execution_count": 167,
   "id": "4b70143c",
   "metadata": {},
   "outputs": [
    {
     "data": {
      "text/plain": [
       "2500"
      ]
     },
     "execution_count": 167,
     "metadata": {},
     "output_type": "execute_result"
    }
   ],
   "source": [
    "len(words)"
   ]
  },
  {
   "cell_type": "code",
   "execution_count": 168,
   "id": "99cef574",
   "metadata": {},
   "outputs": [
    {
     "data": {
      "text/plain": [
       "2500"
      ]
     },
     "execution_count": 168,
     "metadata": {},
     "output_type": "execute_result"
    }
   ],
   "source": [
    "len(guesses)"
   ]
  },
  {
   "cell_type": "code",
   "execution_count": 14,
   "id": "c7001f14",
   "metadata": {},
   "outputs": [],
   "source": [
    "ANSWERS = ['HERB', 'CROW', 'HAVE', 'AMOR', 'HOPE', 'TOLET', 'LIBERATED', 'INLET', 'ELEVATOR', 'LOIRE', 'RYDER', 'ASTERN', 'EASTER', 'IVAN', 'ASP', 'FLEECE', 'NANA', 'DELAYED', 'UNAGING', 'IRAN', 'GUARDS', 'NAY', 'TEST', 'ACCESS', 'TENREC', 'ETAPE', 'STELE', 'REASONER', 'TOROS', 'TELLSOVER', 'ADEPT', 'ETAL', 'LIVE', 'RODE', 'DENY', 'SLED', 'HALER', 'EMILY', 'ROBED', 'BREVE', 'CHAT', 'ROTO', 'OPERATE', 'WED', 'HONORING', 'ALLINVAIN', 'VEER', 'ETTE', 'TILE', 'RAREFY', 'SECURE', 'TRENDS', 'ALEGAR', 'SEDUCE', 'ANNA', 'NAGY', 'ADIT', 'SERE', 'PLASTERED', 'ANTELOPE', 'ASSESS', 'ACCRETE', 'NEST', 'TOOLS', 'ANVIL', 'PEEVE', 'ERRED', 'STAR', 'TODO', 'ELAN', 'ALLY', 'TED']"
   ]
  },
  {
   "cell_type": "code",
   "execution_count": 15,
   "id": "1a536966",
   "metadata": {},
   "outputs": [],
   "source": [
    "GENERATED_ANSWERS = ['HERB', 'CROW', 'HAVE', 'AMOR', 'DANA', 'SCORP', 'ASSERTIVE', 'VIELA', 'ELEVATOR', 'TECOC', 'RYDER', 'ASTERN', 'EASTER', 'IVAN', 'ASP', 'GYPSEE', 'YANK', 'DEFERRED', 'AGELESS', 'IRAN', 'HELLHOUNDS', 'NAK', 'SWORD', 'CORRID', 'LORIS', 'LIVER', 'STELE', 'ANCHORER', 'TOROS', 'ECHOESIT', 'ADEPT', 'FOOT', 'BARB', 'RIDOF', 'FOGO', 'WATR', 'KRONE', 'EMILY', 'ROBED', 'SEMIB', 'CHAT', 'GYRA', 'OPERATE', 'TIE', 'INHONOR', 'ENGLISH', 'VEER', 'ETTE', 'TILE', 'RAREFY', 'SHOWER', 'EBBSAND', 'TARROR', 'ENTICE', 'ANNA', 'NAGY', 'ADIT', 'SERE', 'PLOUGHBOY', 'GOLFBALL', 'ASSIGN', 'COALESCE', 'NEST', 'TOOLS', 'OREIL', 'VEXAT', 'ERRED', 'CLAN', 'TODO', 'ELAN', 'ALLY', 'TED']"
   ]
  },
  {
   "cell_type": "code",
   "execution_count": 16,
   "id": "0d385448",
   "metadata": {},
   "outputs": [],
   "source": [
    "def cos_similarity_incl_null(words, guesses):\n",
    "    cos_sim = []\n",
    "    for i in range(len(words)):\n",
    "        try: \n",
    "            cos_sim.append(wv_from_bin.distance(words[i].lower(), guesses[i].lower()))\n",
    "        except:\n",
    "            cos_sim.append(0)\n",
    "    return sum(cos_sim) / len(cos_sim)\n",
    "\n",
    "def cos_similarity_excl_null(words, guesses):\n",
    "    cos_sim = []\n",
    "    for i in range(len(words)):\n",
    "        try: \n",
    "            cos_sim.append(wv_from_bin.distance(words[i].lower(), guesses[i].lower()))\n",
    "        except:\n",
    "            pass\n",
    "    if len(cos_sim):\n",
    "        return sum(cos_sim) / len(cos_sim)\n",
    "    else:\n",
    "        return 0"
   ]
  },
  {
   "cell_type": "code",
   "execution_count": 17,
   "id": "4a023917",
   "metadata": {},
   "outputs": [
    {
     "data": {
      "text/plain": [
       "0.32385506093794225"
      ]
     },
     "execution_count": 17,
     "metadata": {},
     "output_type": "execute_result"
    }
   ],
   "source": [
    "cos_similarity_excl_null(ANSWERS, GENERATED_ANSWERS)"
   ]
  },
  {
   "cell_type": "code",
   "execution_count": 20,
   "id": "b65e7821",
   "metadata": {},
   "outputs": [
    {
     "data": {
      "text/plain": [
       "0.0"
      ]
     },
     "execution_count": 20,
     "metadata": {},
     "output_type": "execute_result"
    }
   ],
   "source": [
    "wv_from_bin.distance(ANSWERS[0].lower(), GENERATED_ANSWERS[0].lower())"
   ]
  },
  {
   "cell_type": "code",
   "execution_count": 22,
   "id": "a8fe8d68",
   "metadata": {},
   "outputs": [
    {
     "data": {
      "text/plain": [
       "0.0"
      ]
     },
     "execution_count": 22,
     "metadata": {},
     "output_type": "execute_result"
    }
   ],
   "source": [
    "wv_from_bin.distance('herb', 'herb')"
   ]
  },
  {
   "cell_type": "code",
   "execution_count": 28,
   "id": "57f0a64c",
   "metadata": {},
   "outputs": [
    {
     "data": {
      "text/plain": [
       "0.2890373468399048"
      ]
     },
     "execution_count": 28,
     "metadata": {},
     "output_type": "execute_result"
    }
   ],
   "source": [
    "wv_from_bin.distance('good', 'bad')"
   ]
  },
  {
   "cell_type": "code",
   "execution_count": 29,
   "id": "e6d05681",
   "metadata": {},
   "outputs": [],
   "source": [
    "from sentence_transformers import SentenceTransformer, util\n",
    "import numpy as np\n",
    "\n",
    "bi_encoder = SentenceTransformer('paraphrase-MiniLM-L6-v2')\n",
    "\n",
    "def biencoder(clue, answers):\n",
    "    def encode_texts(bi_encoder, texts):\n",
    "        return bi_encoder.encode(texts)\n",
    "    \n",
    "    def calculate_similarity(clue_embedding, answer_embeddings):\n",
    "        return util.dot_score(clue_embedding, answer_embeddings)[0].cpu().numpy()\n",
    "    \n",
    "    def softmax(x):\n",
    "        e_x = np.exp(x - np.max(x))\n",
    "        return e_x / e_x.sum()\n",
    "    \n",
    "    clue_embedding = encode_texts(bi_encoder, [clue])[0]\n",
    "    answer_embeddings = encode_texts(bi_encoder, answers)\n",
    "    \n",
    "    similarity_scores = calculate_similarity(clue_embedding, answer_embeddings)\n",
    "    probabilities = softmax(similarity_scores)\n",
    "    \n",
    "    answer_probabilities = {answer: prob for answer, prob in zip(answers, probabilities)}\n",
    "    \n",
    "    return answer_probabilities"
   ]
  },
  {
   "cell_type": "code",
   "execution_count": 32,
   "id": "c40b7b9b",
   "metadata": {},
   "outputs": [
    {
     "data": {
      "text/plain": [
       "tensor([[1.0000]])"
      ]
     },
     "execution_count": 32,
     "metadata": {},
     "output_type": "execute_result"
    }
   ],
   "source": [
    "util.cos_sim(bi_encoder.encode('herb'), bi_encoder.encode('herb'))"
   ]
  },
  {
   "cell_type": "code",
   "execution_count": 49,
   "id": "4572b61a",
   "metadata": {},
   "outputs": [],
   "source": [
    "def cos_similarity_excl_null(words, guesses):\n",
    "    cos_sim = []\n",
    "    for i in range(len(words)):\n",
    "        try: \n",
    "            sim = util.cos_sim(bi_encoder.encode(words[i].lower()), bi_encoder.encode(guesses[i].lower()))\n",
    "            cos_sim.append(sim)\n",
    "        except:\n",
    "            pass\n",
    "    if len(cos_sim):\n",
    "        return sum(cos_sim) / len(cos_sim)\n",
    "    else:\n",
    "        return 0"
   ]
  },
  {
   "cell_type": "code",
   "execution_count": 50,
   "id": "84f910f3",
   "metadata": {},
   "outputs": [
    {
     "data": {
      "text/plain": [
       "tensor([[0.4095]])"
      ]
     },
     "execution_count": 50,
     "metadata": {},
     "output_type": "execute_result"
    }
   ],
   "source": [
    "cos_similarity_excl_null(words, guesses)"
   ]
  },
  {
   "cell_type": "code",
   "execution_count": null,
   "id": "9e42c74d",
   "metadata": {},
   "outputs": [],
   "source": []
  }
 ],
 "metadata": {
  "kernelspec": {
   "display_name": "cs224n",
   "language": "python",
   "name": "cs224n"
  },
  "language_info": {
   "codemirror_mode": {
    "name": "ipython",
    "version": 3
   },
   "file_extension": ".py",
   "mimetype": "text/x-python",
   "name": "python",
   "nbconvert_exporter": "python",
   "pygments_lexer": "ipython3",
   "version": "3.12.2"
  }
 },
 "nbformat": 4,
 "nbformat_minor": 5
}
